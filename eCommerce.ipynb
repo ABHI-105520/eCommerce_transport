{
 "cells": [
  {
   "cell_type": "code",
   "execution_count": null,
   "metadata": {},
   "outputs": [],
   "source": [
    "import pandas as pd"
   ]
  },
  {
   "cell_type": "code",
   "execution_count": null,
   "metadata": {},
   "outputs": [],
   "source": [
    "df1 = pd.read_excel('Company X - Order Report.xlsx')\n",
    "df1 = df1.rename(columns={'ExternOrderNo': 'Order ID'})\n",
    "df1.head()"
   ]
  },
  {
   "cell_type": "code",
   "execution_count": null,
   "metadata": {},
   "outputs": [],
   "source": [
    "df2 = pd.read_excel('Company X - Pincode Zones.xlsx')\n",
    "df2['Zone'] = df2['Zone'].str.upper()\n",
    "df2.head()"
   ]
  },
  {
   "cell_type": "code",
   "execution_count": null,
   "metadata": {},
   "outputs": [],
   "source": [
    "df3 = pd.read_excel('Company X - SKU Master.xlsx')\n",
    "df3.head()"
   ]
  },
  {
   "cell_type": "code",
   "execution_count": null,
   "metadata": {},
   "outputs": [],
   "source": [
    "df4 = pd.read_excel('Courier Company - Invoice.xlsx')\n",
    "df4['Zone'] = df4['Zone'].str.upper()\n",
    "df4.head()"
   ]
  },
  {
   "cell_type": "code",
   "execution_count": null,
   "metadata": {},
   "outputs": [],
   "source": [
    "df5 = pd.read_excel('Courier Company - Rates.xlsx')\n",
    "df5.head()"
   ]
  },
  {
   "cell_type": "code",
   "execution_count": null,
   "metadata": {},
   "outputs": [],
   "source": [
    "X = pd.merge(df1, df3, on='SKU', how='outer')\n",
    "X['Total Weight (KG)'] = (X['Order Qty']*X['Weight (g)'])/1000\n",
    "X.head()"
   ]
  },
  {
   "cell_type": "code",
   "execution_count": null,
   "metadata": {},
   "outputs": [],
   "source": [
    "Courier_company = pd.merge(df4, df5, on='Zone', how='outer')\n",
    "Courier_company = pd.merge(Courier_company, df2, on=['Warehouse Pincode', 'Customer Pincode',\t'Zone'], how='outer')\n",
    "temp = X[['Order ID','Payment Mode','Total Weight (KG)']]\n",
    "Courier_company = pd.merge(Courier_company, temp, on='Order ID', how='outer')\n",
    "Courier_company.head()"
   ]
  },
  {
   "cell_type": "code",
   "execution_count": null,
   "metadata": {},
   "outputs": [],
   "source": [
    "Courier_company.info()"
   ]
  },
  {
   "cell_type": "code",
   "execution_count": null,
   "metadata": {},
   "outputs": [],
   "source": [
    "Courier_company = Courier_company.dropna()"
   ]
  },
  {
   "cell_type": "code",
   "execution_count": null,
   "metadata": {},
   "outputs": [],
   "source": [
    "\n",
    "df = Courier_company\n",
    "\n",
    "def calculate_courier_charges(row):\n",
    "    if \"Forward and RTO charges\" in row[\"Type of Shipment\"]:\n",
    "        forward_charges = row[\"Forward Fixed Charge\"]\n",
    "        additional_weight_slab_charge = row[\"Forward Additional Weight Slab Charge\"]\n",
    "        rto_charges = row[\"RTO Fixed Charge\"]\n",
    "        rto_additional_weight_slab_charge = row[\"RTO Additional Weight Slab Charge\"]\n",
    "    else:\n",
    "        forward_charges = row[\"Forward Fixed Charge\"]\n",
    "        additional_weight_slab_charge = row[\"Forward Additional Weight Slab Charge\"]\n",
    "        rto_charges = 0\n",
    "        rto_additional_weight_slab_charge = 0\n",
    "\n",
    "    weight_slabs = df[\"Weight Slabs\"].tolist()\n",
    "    charged_weight = row[\"Charged Weight\"]\n",
    "    zone = row[\"Zone\"]\n",
    "    total_charges = 0\n",
    "\n",
    "    for i in range(len(weight_slabs)):\n",
    "        if i == 0:\n",
    "            fixed_charge = forward_charges if \"Forward charges\" in row[\"Type of Shipment\"] else rto_charges\n",
    "            slab_weight = float(weight_slabs[i])\n",
    "            total_charges += fixed_charge\n",
    "        else:\n",
    "            additional_slab_weight = float(weight_slabs[i]) - float(weight_slabs[i-1])\n",
    "            additional_slab_charge = additional_weight_slab_charge if \"Forward charges\" in row[\"Type of Shipment\"] else rto_additional_weight_slab_charge\n",
    "            total_charges += (additional_slab_charge * additional_slab_weight)\n",
    "\n",
    "    return total_charges\n",
    "\n",
    "df[\"Courier Charges\"] = df.apply(calculate_courier_charges, axis=1)\n",
    "\n",
    "def calculate_cod_charges(row):\n",
    "    if row[\"Payment Mode\"] == \"Prepaid\":\n",
    "        return 0\n",
    "    else:\n",
    "        order_amount = row[\"Billing Amount (Rs.)\"]\n",
    "        if order_amount <= 300:\n",
    "            return 15\n",
    "        else:\n",
    "            return 0.05 * order_amount\n",
    "\n",
    "df[\"COD Charges\"] = df.apply(calculate_cod_charges, axis=1)\n",
    "df[\"Total Charges\"] = df[\"Courier Charges\"] + df[\"COD Charges\"]\n"
   ]
  },
  {
   "cell_type": "code",
   "execution_count": null,
   "metadata": {},
   "outputs": [],
   "source": [
    "result = df[['Order ID','AWB Code']]\n",
    "result['Total Weight - X (KG)'] = df['Total Weight (KG)']\n",
    "result['Weight Slab - X (KG)'] = df['Weight Slabs']\n",
    "result['Total Weight - Courier Company (KG)'] = df['Total Weight (KG)']+df['Weight Slabs']\n",
    "result['Weight Slab Charged - Courier Company (KG)'] = df['Charged Weight']\n",
    "result['Delivery Zone - X'] = df['Zone']\n",
    "result['Delivery Zone Charged - Courier Company'] = df['Courier Charges']\n",
    "result['Expected Charge - X (RS.)'] = df['Total Charges']\n",
    "result['Charges Billed - Courier Company (RS.)'] = df['Billing Amount (Rs.)']\n",
    "result['Differences - Expected Charges & Billed Charges'] = df['Billing Amount (Rs.)']-df['Total Charges']"
   ]
  },
  {
   "cell_type": "code",
   "execution_count": null,
   "metadata": {},
   "outputs": [],
   "source": [
    "result.info()"
   ]
  },
  {
   "cell_type": "code",
   "execution_count": null,
   "metadata": {},
   "outputs": [],
   "source": [
    "correct_crg = result.index[result['Expected Charge - X (RS.)'] == result['Charges Billed - Courier Company (RS.)']].tolist()\n",
    "over_crg = result.index[result['Expected Charge - X (RS.)'] < result['Charges Billed - Courier Company (RS.)']].tolist()\n",
    "under_crg = result.index[result['Expected Charge - X (RS.)'] > result['Charges Billed - Courier Company (RS.)']].tolist()\n",
    "\n",
    "equal_sum = result.loc[correct_crg, 'Differences - Expected Charges & Billed Charges'].sum()\n",
    "over_sum = result.loc[over_crg, 'Differences - Expected Charges & Billed Charges'].sum()\n",
    "under_sum = result.loc[under_crg, 'Differences - Expected Charges & Billed Charges'].sum()"
   ]
  },
  {
   "cell_type": "code",
   "execution_count": null,
   "metadata": {},
   "outputs": [],
   "source": [
    "data = {\n",
    "    ' ': ['Total orders where X has been correctly charged', 'Total orders where X has been overcharged', 'Total Orders where X has been undercharged'],\n",
    "    'Count': [len(correct_crg), len(over_crg), len(under_crg)],\n",
    "    'Amount (Rs.)': [round(equal_sum,2), round(over_sum,2), round(under_sum,2)]\n",
    "}\n",
    "summary = pd.DataFrame(data)"
   ]
  },
  {
   "cell_type": "code",
   "execution_count": null,
   "metadata": {},
   "outputs": [],
   "source": [
    "\n",
    "with pd.ExcelWriter('Output.xlsx') as writer:\n",
    "    result.to_excel(writer, sheet_name='Calculations', index=False)\n",
    "    summary.to_excel(writer, sheet_name='Summary', index=False)"
   ]
  }
 ],
 "metadata": {
  "kernelspec": {
   "display_name": "Python 3",
   "language": "python",
   "name": "python3"
  },
  "language_info": {
   "codemirror_mode": {
    "name": "ipython",
    "version": 3
   },
   "file_extension": ".py",
   "mimetype": "text/x-python",
   "name": "python",
   "nbconvert_exporter": "python",
   "pygments_lexer": "ipython3",
   "version": "3.11.4"
  },
  "orig_nbformat": 4
 },
 "nbformat": 4,
 "nbformat_minor": 2
}
